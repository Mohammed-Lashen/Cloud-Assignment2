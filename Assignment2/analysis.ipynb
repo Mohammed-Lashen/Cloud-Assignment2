{
 "cells": [
  {
   "cell_type": "code",
   "execution_count": 11,
   "id": "d2d3d97c-c205-446a-a130-1aa9961906b9",
   "metadata": {},
   "outputs": [],
   "source": [
    "import pandas as pd"
   ]
  },
  {
   "cell_type": "code",
   "execution_count": 117,
   "id": "8b6b8b0c-d3c5-43e3-9c5b-00bc83052c2a",
   "metadata": {},
   "outputs": [
    {
     "data": {
      "text/plain": [
       "(1354, 23)"
      ]
     },
     "execution_count": 117,
     "metadata": {},
     "output_type": "execute_result"
    }
   ],
   "source": [
    "# read file\n",
    "DF = pd.read_csv(r\"E:\\College Courses\\Semester4\\Cloud Computing\\Assignments\\books.csv\")\n",
    "DF.shape"
   ]
  },
  {
   "cell_type": "code",
   "execution_count": 118,
   "id": "2f2618dd-cc88-4bdb-9553-fd96f905f21c",
   "metadata": {},
   "outputs": [
    {
     "data": {
      "text/plain": [
       "(1153, 23)"
      ]
     },
     "execution_count": 118,
     "metadata": {},
     "output_type": "execute_result"
    }
   ],
   "source": [
    "# clean file \n",
    "missing_values = DF.isnull().sum()\n",
    "DF.dropna(inplace=True)\n",
    "DF.drop_duplicates(inplace=True)\n",
    "DF.shape"
   ]
  },
  {
   "cell_type": "code",
   "execution_count": 133,
   "id": "c28129d2-1d56-4f59-a82f-f576123ce28e",
   "metadata": {},
   "outputs": [
    {
     "name": "stdout",
     "output_type": "stream",
     "text": [
      "[2, 7, 9, 10, 11, 12, 13]\n"
     ]
    }
   ],
   "source": [
    "#to know the rows that will be analysed\n",
    "h1 = \"Harry Potter and the Sorcerer's Stone (Harry Potter, #1)\"\n",
    "h2 = \"Harry Potter and the Chamber of Secrets (Harry Potter, #2)\"\n",
    "h3 = \"Harry Potter and the Prisoner of Azkaban (Harry Potter, #3)\"\n",
    "h4 = \"Harry Potter and the Goblet of Fire (Harry Potter, #4)\"\n",
    "h5 = \"Harry Potter and the Order of the Phoenix (Harry Potter, #5)\"\n",
    "h6 = \"Harry Potter and the Half-Blood Prince (Harry Potter, #6)\"\n",
    "h7 = \"Harry Potter and the Deathly Hallows (Harry Potter, #7)\"\n",
    "row_number = []\n",
    "for row in range(1153) :  \n",
    "    if DF.iloc[row,10]==h1 or DF.iloc[row,10] ==h2 or DF.iloc[row,10]==h3 or DF.iloc[row,10]==h4 or DF.iloc[row,10]==h5 or DF.iloc[row,10]==h6 or DF.iloc[row,10]==h7:\n",
    "        row_number.append(row+1)\n",
    "print(row_number)"
   ]
  },
  {
   "cell_type": "code",
   "execution_count": 134,
   "id": "3cf4b5ea-cac1-4ea6-adaa-7895bf491945",
   "metadata": {},
   "outputs": [
    {
     "name": "stdout",
     "output_type": "stream",
     "text": [
      "{\"Harry Potter and the Sorcerer's Stone (Harry Potter, #1)\": 491, 'Harry Potter and the Prisoner of Azkaban (Harry Potter, #3)': 376, 'Harry Potter and the Order of the Phoenix (Harry Potter, #5)': 307, 'Harry Potter and the Chamber of Secrets (Harry Potter, #2)': 398, 'Harry Potter and the Goblet of Fire (Harry Potter, #4)': 332, 'Harry Potter and the Deathly Hallows (Harry Potter, #7)': 263, 'Harry Potter and the Half-Blood Prince (Harry Potter, #6)': 275}\n"
     ]
    }
   ],
   "source": [
    "#Find the most selling books within the Harry Potter series\n",
    "books_count= {}\n",
    "for i in row_number:\n",
    "    books_count_list[DF.iloc[i-1,10]] = DF.iloc[i-1,4]\n",
    "print(books_count_list)"
   ]
  },
  {
   "cell_type": "code",
   "execution_count": 135,
   "id": "952fb6f6-7826-4efa-9b5e-114574db986e",
   "metadata": {},
   "outputs": [
    {
     "name": "stdout",
     "output_type": "stream",
     "text": [
      "Key with maximum value: Harry Potter and the Sorcerer's Stone (Harry Potter, #1)\n",
      "Maximum value: 491\n"
     ]
    }
   ],
   "source": [
    "max_key = max(books_count_list, key=books_count_list.get)\n",
    "max_value = books_count_list[max_key]\n",
    "print(\"Key with maximum value:\", max_key)\n",
    "print(\"Maximum value:\", max_value)"
   ]
  },
  {
   "cell_type": "code",
   "execution_count": 136,
   "id": "7303583d-da2d-455f-8e47-052f1fca5dfa",
   "metadata": {},
   "outputs": [
    {
     "name": "stdout",
     "output_type": "stream",
     "text": [
      "average_rating_list [4.44, 4.53, 4.46, 4.37, 4.53, 4.61, 4.54]\n",
      "average_rating =  4.497142857142857\n"
     ]
    }
   ],
   "source": [
    "#Calculate the average rating of the Harry Potter books\n",
    "average_rating_list = []\n",
    "for i in row_number :\n",
    "    average_rating_list.append(DF.iloc[i-1,12])\n",
    "print(\"average_rating_list\",average_rating_list)\n",
    "sum_of_average_rating=0\n",
    "for i in average_rating_list:\n",
    "    sum_of_average_rating=sum_of_average_rating+i\n",
    "print(\"average_rating = \",sum_of_average_rating/7)"
   ]
  }
 ],
 "metadata": {
  "kernelspec": {
   "display_name": "Python 3 (ipykernel)",
   "language": "python",
   "name": "python3"
  },
  "language_info": {
   "codemirror_mode": {
    "name": "ipython",
    "version": 3
   },
   "file_extension": ".py",
   "mimetype": "text/x-python",
   "name": "python",
   "nbconvert_exporter": "python",
   "pygments_lexer": "ipython3",
   "version": "3.11.7"
  }
 },
 "nbformat": 4,
 "nbformat_minor": 5
}
